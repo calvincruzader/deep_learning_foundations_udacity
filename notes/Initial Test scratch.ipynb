{
 "cells": [
  {
   "cell_type": "markdown",
   "metadata": {},
   "source": [
    "**Markdown Testing**"
   ]
  },
  {
   "cell_type": "markdown",
   "metadata": {},
   "source": [
    "Testing whether or not Jupyter Notebook is actually the best place to take notes and code and do LaTeX"
   ]
  },
  {
   "cell_type": "markdown",
   "metadata": {},
   "source": [
    "* markdown \n",
    "    * not as intuitive as BoostNotes blah\n",
    "    >> testing the indents with greater than sign\n",
    "    \n",
    "    \n"
   ]
  },
  {
   "cell_type": "markdown",
   "metadata": {},
   "source": [
    "sup \n",
    "> testing indents with greater than sign \n",
    ">> double indent \n",
    ">>> I love it, super easy, not as easy as auto indents but fairly intuitive \n",
    ">>>> Maybe takes up too much space. hm, that's unfortunate\n",
    "maybe if multiple points are being made in a narrative form it would be easier.... idk, let's play around with this some more. idk man, definitely takes up too much space.\n",
    "\n",
    "\n",
    "- let's try bullets \n",
    "    - does this work?\n",
    "    - hey, not bad, and it's easier to type than the * sign \n",
    "    - maybe i'll stick with this, fairly intuitive\n",
    "    \n"
   ]
  },
  {
   "cell_type": "markdown",
   "metadata": {},
   "source": [
    "Now, let's try some $math$!\n",
    "\n",
    "inline equation: $e=mc^2$\n",
    "more involved Latex, a vector: $y_2=\\left( \\begin{array}{} 0 \\\\ ? \\\\ ? \\\\ ? \\\\ ? \\\\ ? \\\\ ? \\\\ ?  \\end{array} \\right)$ and maybe some n-dimensional arrays: $(b_x, b_y, b_h, b_w)$. The latex here is better than in boostnotes lolololoolol\n",
    "something with summations or special characters or whatever: $e^x=\\sum_{i=0}^\\infty \\frac{1}{i!}x^i$"
   ]
  },
  {
   "cell_type": "markdown",
   "metadata": {},
   "source": [
    "let's try some more emphasis: \n",
    "\n",
    "-------\n",
    "hmmm\n",
    "-------\n",
    "perfect\n",
    "\n",
    "how about inline code?\n",
    "```python \n",
    "print(\"hello world!\") \n",
    "```\n",
    "Not ideal, but I can make it work."
   ]
  },
  {
   "cell_type": "markdown",
   "metadata": {},
   "source": [
    "last but not least, pictures! \n",
    "<img src=\"https://cdn.vox-cdn.com/uploads/chorus_asset/file/8442581/tumblr_ooqvmjegSB1qirg4co1_500.jpg\" alt=\"Drawing\" style=\"width: 200px; height: 200px\"/>\n",
    "![some_pic](https://cdn.vox-cdn.com/uploads/chorus_asset/file/8442581/tumblr_ooqvmjegSB1qirg4co1_500.jpg)"
   ]
  }
 ],
 "metadata": {
  "kernelspec": {
   "display_name": "Python [default]",
   "language": "python",
   "name": "python3"
  },
  "language_info": {
   "codemirror_mode": {
    "name": "ipython",
    "version": 3
   },
   "file_extension": ".py",
   "mimetype": "text/x-python",
   "name": "python",
   "nbconvert_exporter": "python",
   "pygments_lexer": "ipython3",
   "version": "3.6.3"
  }
 },
 "nbformat": 4,
 "nbformat_minor": 2
}
