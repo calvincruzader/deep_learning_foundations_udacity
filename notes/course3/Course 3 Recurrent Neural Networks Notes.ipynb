{
 "cells": [
  {
   "cell_type": "markdown",
   "metadata": {},
   "source": [
    "# Recurrent Neural Networks \n",
    "\n",
    "## RNN Intro \n",
    "\n",
    "Recurrent is defined as occuring often or repeatedly\n",
    "\n",
    "For RNNs, we perform the same task for each element in the input sequence \n",
    "\n",
    "## RNN History \n",
    "\n",
    "First attempt to add memory to neural networks were Time Delay Neural Networks (TDNNs 1989)\n",
    "\n",
    "Simple RNN/ Elman Networks (1990) followed \n",
    "\n",
    "Vanishing gradient problem was a problem for RNNs too\n",
    "    contributions of information decayed geometrically over time \n",
    "    \n",
    "Long Short-Term Memory (LSTMs mid-90s) addressed the vanishing gradient problem \n",
    "* some signals (state variables) are kept fixed by using gates and reintroduced (or not) at an appropraite time in the future \n",
    "* arbitrary time intervals can be represented and temporal dependnecies can be captured  "
   ]
  }
 ],
 "metadata": {
  "kernelspec": {
   "display_name": "Python [default]",
   "language": "python",
   "name": "python3"
  },
  "language_info": {
   "codemirror_mode": {
    "name": "ipython",
    "version": 3
   },
   "file_extension": ".py",
   "mimetype": "text/x-python",
   "name": "python",
   "nbconvert_exporter": "python",
   "pygments_lexer": "ipython3",
   "version": "3.6.3"
  }
 },
 "nbformat": 4,
 "nbformat_minor": 2
}
